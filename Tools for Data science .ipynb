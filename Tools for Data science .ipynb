{
 "cells": [
  {
   "cell_type": "markdown",
   "id": "49f71de9-5797-41b2-816f-a73cbe48b50a",
   "metadata": {},
   "source": [
    "TOOLS FOR DATA SCIENCE"
   ]
  },
  {
   "cell_type": "markdown",
   "id": "2e6bf5bc-2242-4341-8b65-06725412c480",
   "metadata": {},
   "source": [
    "In this course you will be introduced to a Data Scientist's workbench or toolkit that consists of a variety of tools, languages, libraries, APIs, data sets, models, etc. used by Data Scientists. Try not to be overwhelmed by the sheer number of components and tools that exist in the Data Science ecosystem. The main goal of the course is for you to be knowledgeable about the kinds of tools Data Scientists use, their examples, and get some hands-on time with a few key tools. "
   ]
  },
  {
   "cell_type": "markdown",
   "id": "f4981b9f-20df-4da9-b8a9-0b4ebf55a00b",
   "metadata": {},
   "source": [
    "DATA SCIENCE LANGUAGES\n",
    "1. Python\n",
    "2. R\n",
    "3. Java\n",
    "4. Scala\n",
    "5. Julia\n",
    "6. C++"
   ]
  },
  {
   "cell_type": "markdown",
   "id": "78f5e2b1-a0c2-4d0d-b8f4-c6dddce381c2",
   "metadata": {},
   "source": [
    "DATA SCIENCE LIBRARIES\n",
    "1. SCIENTIFIC COMPUTING LIBRARIES\n",
    "   i.  Pandas\n",
    "   ii. Numpy\n",
    "2. VISUALIZATION LIBRARIES\n",
    "   i. Matplotlib\n",
    "   ii. Seaborn\n",
    "3. MACHINE LEARNING AND DEEP LEARNING LIBRARIES\n",
    "   i. Scikit Learn\n",
    "   ii.Keras\n",
    "4. DEEP LEARNING LIBRARIES\n",
    "   i. Tensorflow\n",
    "   ii. Pytorch\n"
   ]
  },
  {
   "cell_type": "markdown",
   "id": "453fa206-ce9a-407b-a869-43a849a7b609",
   "metadata": {},
   "source": [
    "CATEGORIES OF DATA SCIENCE TOOLS\n",
    "1. DATA MANAGEMENT\n",
    "2. DATA INTEGRATION AND TRANSFORMATION\n",
    "3. DATA VISUALIZATION \n",
    "4. MODEL BUILDING\n",
    "5. MODEL DEPLOYMENT\n",
    "6. MODEL MONITORING AND ASSESSMENT\n"
   ]
  },
  {
   "cell_type": "markdown",
   "id": "ad1664c6-5190-4838-bc02-d3e6a837ca26",
   "metadata": {},
   "source": [
    "ARITHMETIC EXPRESSIONS\n",
    "\n",
    "Arithmetic expressions are used as operands of certain conditional and arithmetic statements. An arithmetic expression can consist of any of the following items: An identifier described as a numeric elementary item (including numeric functions) A numeric literal."
   ]
  },
  {
   "cell_type": "code",
   "execution_count": 3,
   "id": "c5859fec-c679-47c4-a0ea-5705d7a864fd",
   "metadata": {},
   "outputs": [
    {
     "data": {
      "text/plain": [
       "600"
      ]
     },
     "execution_count": 3,
     "metadata": {},
     "output_type": "execute_result"
    }
   ],
   "source": [
    "#Multiplying two numbers\n",
    "20*30\n"
   ]
  },
  {
   "cell_type": "code",
   "execution_count": 4,
   "id": "428e6cc7-5d55-4d7d-9ff4-ab56ee76820c",
   "metadata": {},
   "outputs": [
    {
     "data": {
      "text/plain": [
       "50"
      ]
     },
     "execution_count": 4,
     "metadata": {},
     "output_type": "execute_result"
    }
   ],
   "source": [
    "#addition of two numbers\n",
    "20+30"
   ]
  },
  {
   "cell_type": "code",
   "execution_count": 5,
   "id": "a2ee4124-089c-4de0-af57-5c9c1d47af3a",
   "metadata": {},
   "outputs": [
    {
     "name": "stdin",
     "output_type": "stream",
     "text": [
      "Enter the minutes 300\n"
     ]
    },
    {
     "name": "stdout",
     "output_type": "stream",
     "text": [
      "5.0\n"
     ]
    }
   ],
   "source": [
    "#convert minutes to hours\n",
    "minutes=int(input(\"Enter the minutes\"))\n",
    "hours=minutes/60\n",
    "print(hours)"
   ]
  },
  {
   "cell_type": "markdown",
   "id": "a578ef0b-daa8-48dc-9e78-c801a452a0b0",
   "metadata": {},
   "source": [
    "OBJECTIVES \n",
    "\n",
    "1. Create a Jupyter Notebook with markdown and code cells\n",
    "2. List examples of languages, libraries and tools used in Data Science\n",
    "3. Share your Jupyter Notebook publicly on GitHub\n",
    "4. Evaluate notebooks submitted by your peers using the provided rubric\n",
    "5. Demonstrate proficiency in Data Science toolkit knowledge"
   ]
  },
  {
   "cell_type": "markdown",
   "id": "c9460588-33e6-477b-b66a-6015767b79b8",
   "metadata": {},
   "source": [
    "AUTHOR'S NAME\n",
    "\n",
    "KHUSHI GOSWAMI"
   ]
  }
 ],
 "metadata": {
  "kernelspec": {
   "display_name": "Python 3 (ipykernel)",
   "language": "python",
   "name": "python3"
  },
  "language_info": {
   "codemirror_mode": {
    "name": "ipython",
    "version": 3
   },
   "file_extension": ".py",
   "mimetype": "text/x-python",
   "name": "python",
   "nbconvert_exporter": "python",
   "pygments_lexer": "ipython3",
   "version": "3.12.1"
  }
 },
 "nbformat": 4,
 "nbformat_minor": 5
}
